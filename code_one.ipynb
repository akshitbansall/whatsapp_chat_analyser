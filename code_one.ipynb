{
 "cells": [
  {
   "cell_type": "code",
   "execution_count": null,
   "id": "95cb183b",
   "metadata": {},
   "outputs": [],
   "source": [
    "import re\n",
    "import pandas as pd"
   ]
  },
  {
   "cell_type": "code",
   "execution_count": null,
   "id": "32ceb99d",
   "metadata": {},
   "outputs": [],
   "source": [
    "f = open('demo_chat.txt', 'r', encoding='utf-8')"
   ]
  },
  {
   "cell_type": "code",
   "execution_count": null,
   "id": "3ace6332",
   "metadata": {},
   "outputs": [],
   "source": [
    "data = f.read()"
   ]
  },
  {
   "cell_type": "code",
   "execution_count": null,
   "id": "40f6363e",
   "metadata": {
    "scrolled": true
   },
   "outputs": [],
   "source": [
    "print(data)"
   ]
  },
  {
   "cell_type": "code",
   "execution_count": null,
   "id": "56287556",
   "metadata": {},
   "outputs": [],
   "source": [
    "data = re.sub(r'(\\d+:\\d+)\\s*([ap]m)', r'\\1', data)"
   ]
  },
  {
   "cell_type": "code",
   "execution_count": null,
   "id": "bf7d7a3d",
   "metadata": {},
   "outputs": [],
   "source": [
    "print(data)"
   ]
  },
  {
   "cell_type": "code",
   "execution_count": null,
   "id": "4692f887",
   "metadata": {},
   "outputs": [],
   "source": [
    "pattern = r'\\d{1,2}/\\d{1,2}/\\d{2,4},\\s\\d{1,2}:\\d{2}\\s-\\s'"
   ]
  },
  {
   "cell_type": "code",
   "execution_count": null,
   "id": "fa4c7a02",
   "metadata": {
    "scrolled": true
   },
   "outputs": [],
   "source": [
    "messages = re.split(pattern, data)[1:]\n",
    "\n",
    "messages"
   ]
  },
  {
   "cell_type": "code",
   "execution_count": null,
   "id": "86b791c4",
   "metadata": {},
   "outputs": [],
   "source": [
    "dates = re.findall(pattern, data)\n",
    "dates"
   ]
  },
  {
   "cell_type": "code",
   "execution_count": null,
   "id": "aeacf343",
   "metadata": {
    "scrolled": true
   },
   "outputs": [],
   "source": [
    "df = pd.DataFrame({'user_message':messages, 'message_date': dates})\n",
    "# convert message_date type\n",
    "df['message_date'] = pd.to_datetime(df['message_date'], format='%d/%m/%Y, %H:%M - ')\n",
    "df.rename(columns={'message_date': 'date'}, inplace=True)\n",
    "\n",
    "df.head()\n"
   ]
  },
  {
   "cell_type": "code",
   "execution_count": null,
   "id": "9650b7f7",
   "metadata": {},
   "outputs": [],
   "source": [
    "df.shape"
   ]
  },
  {
   "cell_type": "code",
   "execution_count": null,
   "id": "6223830d",
   "metadata": {},
   "outputs": [],
   "source": [
    "# separate users and messages\n",
    "users = []\n",
    "messages = []\n",
    "\n",
    "for message in df['user_message']:\n",
    "    entry = re.split('([\\w\\W]+?):\\s', message)\n",
    "    if entry[1:]:# user name\n",
    "        users.append(entry[1])\n",
    "        messages.append(entry[2])\n",
    "    else:\n",
    "        users.append('group_notification')\n",
    "        messages.append(entry[0])\n",
    "        \n",
    "        \n",
    "df['user'] = users\n",
    "df ['message'] = messages\n",
    "df.drop(columns=['user_message'], inplace=True)"
   ]
  },
  {
   "cell_type": "code",
   "execution_count": null,
   "id": "dac2eb65",
   "metadata": {},
   "outputs": [],
   "source": [
    "df.head(5)"
   ]
  },
  {
   "cell_type": "code",
   "execution_count": null,
   "id": "d0c2293a",
   "metadata": {},
   "outputs": [],
   "source": [
    "df['year'] = df['date'].dt.year"
   ]
  },
  {
   "cell_type": "code",
   "execution_count": null,
   "id": "16d03c36",
   "metadata": {},
   "outputs": [],
   "source": [
    "df.head()"
   ]
  },
  {
   "cell_type": "code",
   "execution_count": null,
   "id": "8ce041e4",
   "metadata": {},
   "outputs": [],
   "source": [
    "df['month'] = df['date'].dt.month_name()"
   ]
  },
  {
   "cell_type": "code",
   "execution_count": null,
   "id": "5a397562",
   "metadata": {},
   "outputs": [],
   "source": [
    "df.head()"
   ]
  },
  {
   "cell_type": "code",
   "execution_count": null,
   "id": "c1c972e5",
   "metadata": {},
   "outputs": [],
   "source": [
    "df['day'] = df['date'].dt.day"
   ]
  },
  {
   "cell_type": "code",
   "execution_count": null,
   "id": "be089642",
   "metadata": {},
   "outputs": [],
   "source": [
    "df.head()"
   ]
  },
  {
   "cell_type": "code",
   "execution_count": null,
   "id": "1bfdc3f0",
   "metadata": {},
   "outputs": [],
   "source": [
    "df['hour'] = df['date']. dt. hour\n",
    "df['minute'] = df['date'].dt.minute"
   ]
  },
  {
   "cell_type": "code",
   "execution_count": null,
   "id": "153faaad",
   "metadata": {},
   "outputs": [],
   "source": [
    "df.head()"
   ]
  },
  {
   "cell_type": "code",
   "execution_count": null,
   "id": "d4286233",
   "metadata": {},
   "outputs": [],
   "source": [
    "x =df['user'].value_counts().head()"
   ]
  },
  {
   "cell_type": "code",
   "execution_count": null,
   "id": "81ceff24",
   "metadata": {},
   "outputs": [],
   "source": [
    "import matplotlib.pyplot as plt"
   ]
  },
  {
   "cell_type": "code",
   "execution_count": null,
   "id": "80e1b46f",
   "metadata": {},
   "outputs": [],
   "source": [
    "name = x.index\n",
    "count = x.values"
   ]
  },
  {
   "cell_type": "code",
   "execution_count": null,
   "id": "23528b8f",
   "metadata": {},
   "outputs": [],
   "source": [
    "plt.bar(name,count)\n",
    "plt.xticks(rotation='vertical')\n",
    "plt.show()"
   ]
  },
  {
   "cell_type": "code",
   "execution_count": null,
   "id": "143c7f79",
   "metadata": {},
   "outputs": [],
   "source": [
    "round(df['user'].value_counts()/df.shape[0]*100,2).reset_index().rename(columns={'index': 'name', 'user': 'percent'})"
   ]
  },
  {
   "cell_type": "code",
   "execution_count": null,
   "id": "00eff66e",
   "metadata": {},
   "outputs": [],
   "source": [
    "temp = df[df['user']!= 'group_notification']\n",
    "temp = temp[temp['message'] != '<Media omitted>\\n']"
   ]
  },
  {
   "cell_type": "code",
   "execution_count": null,
   "id": "d5423f9d",
   "metadata": {
    "scrolled": true
   },
   "outputs": [],
   "source": [
    "f = open('stop_hinglish.txt', 'r')\n",
    "stop_words = f.read()\n",
    "print(stop_words)"
   ]
  },
  {
   "cell_type": "code",
   "execution_count": null,
   "id": "c741ae2e",
   "metadata": {},
   "outputs": [],
   "source": [
    "words = []\n",
    "for message in temp['message']:\n",
    "    for word in message.lower().split():\n",
    "        if word not in stop_words:\n",
    "            words.append(word)"
   ]
  },
  {
   "cell_type": "code",
   "execution_count": null,
   "id": "e92035de",
   "metadata": {},
   "outputs": [],
   "source": [
    "from collections import Counter\n",
    "pd.DataFrame(Counter(words).most_common(20))"
   ]
  },
  {
   "cell_type": "code",
   "execution_count": null,
   "id": "ce2bcc26",
   "metadata": {},
   "outputs": [],
   "source": [
    "words = []\n",
    "for message in df ['message']:\n",
    "         words.extend (message.split ())"
   ]
  },
  {
   "cell_type": "code",
   "execution_count": null,
   "id": "fa789d3a",
   "metadata": {},
   "outputs": [],
   "source": [
    "from collections import Counter\n",
    "pd.DataFrame(Counter(words).most_common(20))"
   ]
  },
  {
   "cell_type": "code",
   "execution_count": null,
   "id": "f0c5013c",
   "metadata": {},
   "outputs": [],
   "source": [
    "df['month_num'] = df ['date'].dt.month"
   ]
  },
  {
   "cell_type": "code",
   "execution_count": null,
   "id": "7b01cf7a",
   "metadata": {},
   "outputs": [],
   "source": [
    "timeline = df.groupby(['year','month_num', 'month']).count()['message'].reset_index()"
   ]
  },
  {
   "cell_type": "code",
   "execution_count": null,
   "id": "3837115d",
   "metadata": {},
   "outputs": [],
   "source": [
    "timeline"
   ]
  },
  {
   "cell_type": "code",
   "execution_count": null,
   "id": "3edf82d1",
   "metadata": {},
   "outputs": [],
   "source": [
    "time = []\n",
    "for i in range(timeline. shape[0]) :\n",
    "    time.append(timeline['month'][i] + \"-\" + str(timeline['year'][i]))"
   ]
  },
  {
   "cell_type": "code",
   "execution_count": null,
   "id": "b7e00878",
   "metadata": {},
   "outputs": [],
   "source": [
    "timeline['time'] = time"
   ]
  },
  {
   "cell_type": "code",
   "execution_count": null,
   "id": "d009cc05",
   "metadata": {},
   "outputs": [],
   "source": [
    "timeline"
   ]
  },
  {
   "cell_type": "code",
   "execution_count": null,
   "id": "395ec841",
   "metadata": {},
   "outputs": [],
   "source": [
    "plt.plot(timeline['time'],timeline['message'])\n",
    "plt.xticks(rotation='vertical')\n",
    "plt.show()"
   ]
  },
  {
   "cell_type": "code",
   "execution_count": null,
   "id": "eb13b61c",
   "metadata": {},
   "outputs": [],
   "source": [
    "df['only_date'] = df ['date'].dt.date"
   ]
  },
  {
   "cell_type": "code",
   "execution_count": null,
   "id": "c6fe0bef",
   "metadata": {},
   "outputs": [],
   "source": [
    "daily_timeline = df.groupby('only_date').count()['message'].reset_index()"
   ]
  },
  {
   "cell_type": "code",
   "execution_count": null,
   "id": "bb2c3037",
   "metadata": {},
   "outputs": [],
   "source": [
    "plt.figure(figsize=(18,10))\n",
    "plt.plot(daily_timeline['only_date'], daily_timeline['message'])"
   ]
  },
  {
   "cell_type": "code",
   "execution_count": null,
   "id": "3e92be42",
   "metadata": {},
   "outputs": [],
   "source": [
    "df['day_name'] = df['date'].dt.day_name()"
   ]
  },
  {
   "cell_type": "code",
   "execution_count": null,
   "id": "fa8c80b1",
   "metadata": {},
   "outputs": [],
   "source": [
    "df['day_name'].value_counts()"
   ]
  },
  {
   "cell_type": "code",
   "execution_count": null,
   "id": "38ff7775",
   "metadata": {},
   "outputs": [],
   "source": []
  }
 ],
 "metadata": {
  "kernelspec": {
   "display_name": "Python 3 (ipykernel)",
   "language": "python",
   "name": "python3"
  },
  "language_info": {
   "codemirror_mode": {
    "name": "ipython",
    "version": 3
   },
   "file_extension": ".py",
   "mimetype": "text/x-python",
   "name": "python",
   "nbconvert_exporter": "python",
   "pygments_lexer": "ipython3",
   "version": "3.10.9"
  },
  "vscode": {
   "interpreter": {
    "hash": "aee8b7b246df8f9039afb4144a1f6fd8d2ca17a180786b69acc140d282b71a49"
   }
  }
 },
 "nbformat": 4,
 "nbformat_minor": 5
}
